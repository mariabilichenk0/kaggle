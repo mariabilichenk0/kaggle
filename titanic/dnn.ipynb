{
 "cells": [
  {
   "cell_type": "code",
   "execution_count": 1,
   "id": "6eb98208",
   "metadata": {},
   "outputs": [
    {
     "name": "stdout",
     "output_type": "stream",
     "text": [
      "/kaggle/input/titanic/train.csv\n",
      "/kaggle/input/titanic/test.csv\n",
      "/kaggle/input/titanic/gender_submission.csv\n"
     ]
    }
   ],
   "source": [
    "# This Python 3 environment comes with many helpful analytics libraries installed\n",
    "# It is defined by the kaggle/python Docker image: https://github.com/kaggle/docker-python\n",
    "# For example, here's several helpful packages to load\n",
    "\n",
    "import numpy as np # linear algebra\n",
    "import pandas as pd # data processing, CSV file I/O (e.g. pd.read_csv)\n",
    "\n",
    "# Input data files are available in the read-only \"../input/\" directory\n",
    "# For example, running this (by clicking run or pressing Shift+Enter) will list all files under the input directory\n",
    "\n",
    "import os\n",
    "for dirname, _, filenames in os.walk('/kaggle/input'):\n",
    "    for filename in filenames:\n",
    "        print(os.path.join(dirname, filename))\n",
    "\n",
    "# You can write up to 20GB to the current directory (/kaggle/working/) that gets preserved as output when you create a version using \"Save & Run All\" \n",
    "# You can also write temporary files to /kaggle/temp/, but they won't be saved outside of the current session\n",
    "# kernel Python 3.11.11 /local/bin/python"
   ]
  },
  {
   "cell_type": "code",
   "execution_count": 2,
   "id": "615e07f1",
   "metadata": {},
   "outputs": [
    {
     "name": "stdout",
     "output_type": "stream",
     "text": [
      "/kaggle/working/kaggle/titanic\n"
     ]
    },
    {
     "name": "stdout",
     "output_type": "stream",
     "text": [
      "Requirement already satisfied: pandas in /usr/local/lib/python3.11/dist-packages (from -r requirements.txt (line 1)) (2.2.3)\n",
      "Requirement already satisfied: numpy in /usr/local/lib/python3.11/dist-packages (from -r requirements.txt (line 2)) (1.26.4)\n",
      "Requirement already satisfied: scikit-learn in /usr/local/lib/python3.11/dist-packages (from -r requirements.txt (line 3)) (1.2.2)\n",
      "Requirement already satisfied: python-dateutil>=2.8.2 in /usr/local/lib/python3.11/dist-packages (from pandas->-r requirements.txt (line 1)) (2.9.0.post0)\n",
      "Requirement already satisfied: pytz>=2020.1 in /usr/local/lib/python3.11/dist-packages (from pandas->-r requirements.txt (line 1)) (2025.2)\n",
      "Requirement already satisfied: tzdata>=2022.7 in /usr/local/lib/python3.11/dist-packages (from pandas->-r requirements.txt (line 1)) (2025.2)\n",
      "Requirement already satisfied: mkl_fft in /usr/local/lib/python3.11/dist-packages (from numpy->-r requirements.txt (line 2)) (1.3.8)\n",
      "Requirement already satisfied: mkl_random in /usr/local/lib/python3.11/dist-packages (from numpy->-r requirements.txt (line 2)) (1.2.4)\n",
      "Requirement already satisfied: mkl_umath in /usr/local/lib/python3.11/dist-packages (from numpy->-r requirements.txt (line 2)) (0.1.1)\n",
      "Requirement already satisfied: mkl in /usr/local/lib/python3.11/dist-packages (from numpy->-r requirements.txt (line 2)) (2025.1.0)\n",
      "Requirement already satisfied: tbb4py in /usr/local/lib/python3.11/dist-packages (from numpy->-r requirements.txt (line 2)) (2022.1.0)\n",
      "Requirement already satisfied: mkl-service in /usr/local/lib/python3.11/dist-packages (from numpy->-r requirements.txt (line 2)) (2.4.1)\n",
      "Requirement already satisfied: scipy>=1.3.2 in /usr/local/lib/python3.11/dist-packages (from scikit-learn->-r requirements.txt (line 3)) (1.15.2)\n",
      "Requirement already satisfied: joblib>=1.1.1 in /usr/local/lib/python3.11/dist-packages (from scikit-learn->-r requirements.txt (line 3)) (1.5.0)\n",
      "Requirement already satisfied: threadpoolctl>=2.0.0 in /usr/local/lib/python3.11/dist-packages (from scikit-learn->-r requirements.txt (line 3)) (3.6.0)\n",
      "Requirement already satisfied: six>=1.5 in /usr/local/lib/python3.11/dist-packages (from python-dateutil>=2.8.2->pandas->-r requirements.txt (line 1)) (1.17.0)\n",
      "Requirement already satisfied: intel-openmp<2026,>=2024 in /usr/local/lib/python3.11/dist-packages (from mkl->numpy->-r requirements.txt (line 2)) (2024.2.0)\n",
      "Requirement already satisfied: tbb==2022.* in /usr/local/lib/python3.11/dist-packages (from mkl->numpy->-r requirements.txt (line 2)) (2022.1.0)\n",
      "Requirement already satisfied: tcmlib==1.* in /usr/local/lib/python3.11/dist-packages (from tbb==2022.*->mkl->numpy->-r requirements.txt (line 2)) (1.3.0)\n",
      "Requirement already satisfied: intel-cmplr-lib-rt in /usr/local/lib/python3.11/dist-packages (from mkl_umath->numpy->-r requirements.txt (line 2)) (2024.2.0)\n",
      "Requirement already satisfied: intel-cmplr-lib-ur==2024.2.0 in /usr/local/lib/python3.11/dist-packages (from intel-openmp<2026,>=2024->mkl->numpy->-r requirements.txt (line 2)) (2024.2.0)\n"
     ]
    }
   ],
   "source": [
    "! pwd\n",
    "! pip install -r requirements.txt\n",
    "import torch\n",
    "device = \"cuda\" if torch.cuda.is_available() else \"cpu\""
   ]
  },
  {
   "cell_type": "code",
   "execution_count": 3,
   "id": "15cfa041",
   "metadata": {},
   "outputs": [],
   "source": [
    "! pip install skorch>=0.12.0"
   ]
  },
  {
   "cell_type": "code",
   "execution_count": 4,
   "id": "1ba6bf57",
   "metadata": {},
   "outputs": [],
   "source": [
    "import sys, os\n",
    "\n",
    "repo_root = \"/kaggle/working/kaggle\"\n",
    "if repo_root not in sys.path:\n",
    "    sys.path.insert(0, repo_root)\n",
    "import warnings\n",
    "warnings.filterwarnings(\n",
    "    \"ignore\",\n",
    "    message=\"Found unknown categories in columns [0, 2, 3] during transform. These unknown categories will be encoded as all zeros\",\n",
    "    category=UserWarning\n",
    ")\n",
    "from common.preprocessing import make_preprocessor\n",
    "from common.pipelines     import compare_models, grid_search\n",
    "from sklearn.model_selection import train_test_split, RandomizedSearchCV\n",
    "from titanic_features import add_features\n",
    "import joblib\n",
    "from xgboost import XGBClassifier  \n",
    "from sklearn.metrics       import classification_report, accuracy_score\n",
    "from sklearn.pipeline import Pipeline\n",
    "from sklearn.model_selection import GridSearchCV\n",
    "from scipy.stats import randint, uniform\n",
    "import skorch"
   ]
  },
  {
   "cell_type": "code",
   "execution_count": 5,
   "id": "3c7e2c72",
   "metadata": {},
   "outputs": [],
   "source": [
    "# load straight from Kaggle’s mount\n",
    "train = pd.read_csv('/kaggle/input/titanic/train.csv')\n",
    "test  = pd.read_csv('/kaggle/input/titanic/test.csv')"
   ]
  },
  {
   "cell_type": "code",
   "execution_count": 8,
   "id": "ba88e5f9",
   "metadata": {},
   "outputs": [],
   "source": [
    "# apply to train & capture bins\n",
    "# train, fare_bins, age_fill, fare_fill, embarked_fill = add_features(train)\n",
    "\n",
    "# # apply to test _using_ the same fare_bins\n",
    "# test, _, _, _, _ = add_features(\n",
    "#     test,\n",
    "#     fare_bins=fare_bins,\n",
    "#     age_fill=age_fill,\n",
    "#     fare_fill=fare_fill,\n",
    "#     embarked_fill=embarked_fill\n",
    "# )\n",
    "\n",
    "# NUM_COLS = ['Age','Fare','FamilySize']\n",
    "# CAT_COLS = ['Pclass','Sex','Embarked',\n",
    "#             'Title','IsAlone','Deck','FareBin','AgeBin']\n",
    "\n",
    "NUM_COLS = ['Age','Fare']\n",
    "CAT_COLS = ['Pclass','Sex','Embarked']\n",
    "\n",
    "TARGET   = 'Survived'\n",
    "\n",
    "# X = train[NUM_COLS + CAT_COLS]\n",
    "# y = train[TARGET]\n",
    "# X_test  = test[NUM_COLS  + CAT_COLS]\n",
    "\n",
    "X = train[NUM_COLS + CAT_COLS]\n",
    "y = train[TARGET]\n",
    "\n",
    "X_train, X_val, y_train, y_val = train_test_split(\n",
    "    X, y,\n",
    "    test_size=0.20,\n",
    "    random_state=42,\n",
    "    stratify=y\n",
    ")\n",
    "\n",
    "preprocessor = make_preprocessor(NUM_COLS, CAT_COLS,cat_encoder=\"onehot\")\n",
    "\n",
    "# fit on train, transform both\n",
    "X_train_proc = preprocessor.fit_transform(X_train)\n",
    "X_val_proc   = preprocessor.transform(X_val)\n"
   ]
  },
  {
   "cell_type": "code",
   "execution_count": 12,
   "id": "cf693456",
   "metadata": {},
   "outputs": [
    {
     "data": {
      "text/plain": [
       "(712, 8)"
      ]
     },
     "execution_count": 12,
     "metadata": {},
     "output_type": "execute_result"
    }
   ],
   "source": [
    "X_train_proc.shape"
   ]
  },
  {
   "cell_type": "code",
   "execution_count": null,
   "id": "787148b5",
   "metadata": {},
   "outputs": [
    {
     "ename": "ValueError",
     "evalue": "X has 8 features, but ColumnTransformer is expecting 11 features as input.",
     "output_type": "error",
     "traceback": [
      "\u001b[0;31m---------------------------------------------------------------------------\u001b[0m",
      "\u001b[0;31mValueError\u001b[0m                                Traceback (most recent call last)",
      "\u001b[0;32m/tmp/ipykernel_3839/2699629837.py\u001b[0m in \u001b[0;36m<cell line: 0>\u001b[0;34m()\u001b[0m\n\u001b[1;32m     23\u001b[0m \u001b[0;31m# 3) build pipeline\u001b[0m\u001b[0;34m\u001b[0m\u001b[0;34m\u001b[0m\u001b[0m\n\u001b[1;32m     24\u001b[0m \u001b[0mpreprocessor\u001b[0m \u001b[0;34m=\u001b[0m \u001b[0mjoblib\u001b[0m\u001b[0;34m.\u001b[0m\u001b[0mload\u001b[0m\u001b[0;34m(\u001b[0m\u001b[0;34m\"titanic_preprocessor.joblib\"\u001b[0m\u001b[0;34m)\u001b[0m\u001b[0;34m\u001b[0m\u001b[0;34m\u001b[0m\u001b[0m\n\u001b[0;32m---> 25\u001b[0;31m \u001b[0mn_features\u001b[0m \u001b[0;34m=\u001b[0m \u001b[0mpreprocessor\u001b[0m\u001b[0;34m.\u001b[0m\u001b[0mtransform\u001b[0m\u001b[0;34m(\u001b[0m\u001b[0mX_train_proc\u001b[0m\u001b[0;34m)\u001b[0m\u001b[0;34m.\u001b[0m\u001b[0mshape\u001b[0m\u001b[0;34m[\u001b[0m\u001b[0;36m1\u001b[0m\u001b[0;34m]\u001b[0m\u001b[0;34m\u001b[0m\u001b[0;34m\u001b[0m\u001b[0m\n\u001b[0m\u001b[1;32m     26\u001b[0m \u001b[0;34m\u001b[0m\u001b[0m\n\u001b[1;32m     27\u001b[0m \u001b[0mprint\u001b[0m\u001b[0;34m(\u001b[0m\u001b[0mn_features\u001b[0m\u001b[0;34m)\u001b[0m\u001b[0;34m\u001b[0m\u001b[0;34m\u001b[0m\u001b[0m\n",
      "\u001b[0;32m/usr/local/lib/python3.11/dist-packages/sklearn/utils/_set_output.py\u001b[0m in \u001b[0;36mwrapped\u001b[0;34m(self, X, *args, **kwargs)\u001b[0m\n\u001b[1;32m    138\u001b[0m     \u001b[0;34m@\u001b[0m\u001b[0mwraps\u001b[0m\u001b[0;34m(\u001b[0m\u001b[0mf\u001b[0m\u001b[0;34m)\u001b[0m\u001b[0;34m\u001b[0m\u001b[0;34m\u001b[0m\u001b[0m\n\u001b[1;32m    139\u001b[0m     \u001b[0;32mdef\u001b[0m \u001b[0mwrapped\u001b[0m\u001b[0;34m(\u001b[0m\u001b[0mself\u001b[0m\u001b[0;34m,\u001b[0m \u001b[0mX\u001b[0m\u001b[0;34m,\u001b[0m \u001b[0;34m*\u001b[0m\u001b[0margs\u001b[0m\u001b[0;34m,\u001b[0m \u001b[0;34m**\u001b[0m\u001b[0mkwargs\u001b[0m\u001b[0;34m)\u001b[0m\u001b[0;34m:\u001b[0m\u001b[0;34m\u001b[0m\u001b[0;34m\u001b[0m\u001b[0m\n\u001b[0;32m--> 140\u001b[0;31m         \u001b[0mdata_to_wrap\u001b[0m \u001b[0;34m=\u001b[0m \u001b[0mf\u001b[0m\u001b[0;34m(\u001b[0m\u001b[0mself\u001b[0m\u001b[0;34m,\u001b[0m \u001b[0mX\u001b[0m\u001b[0;34m,\u001b[0m \u001b[0;34m*\u001b[0m\u001b[0margs\u001b[0m\u001b[0;34m,\u001b[0m \u001b[0;34m**\u001b[0m\u001b[0mkwargs\u001b[0m\u001b[0;34m)\u001b[0m\u001b[0;34m\u001b[0m\u001b[0;34m\u001b[0m\u001b[0m\n\u001b[0m\u001b[1;32m    141\u001b[0m         \u001b[0;32mif\u001b[0m \u001b[0misinstance\u001b[0m\u001b[0;34m(\u001b[0m\u001b[0mdata_to_wrap\u001b[0m\u001b[0;34m,\u001b[0m \u001b[0mtuple\u001b[0m\u001b[0;34m)\u001b[0m\u001b[0;34m:\u001b[0m\u001b[0;34m\u001b[0m\u001b[0;34m\u001b[0m\u001b[0m\n\u001b[1;32m    142\u001b[0m             \u001b[0;31m# only wrap the first output for cross decomposition\u001b[0m\u001b[0;34m\u001b[0m\u001b[0;34m\u001b[0m\u001b[0m\n",
      "\u001b[0;32m/usr/local/lib/python3.11/dist-packages/sklearn/compose/_column_transformer.py\u001b[0m in \u001b[0;36mtransform\u001b[0;34m(self, X)\u001b[0m\n\u001b[1;32m    796\u001b[0m             \u001b[0;31m# ndarray was used for fitting or transforming, thus we only\u001b[0m\u001b[0;34m\u001b[0m\u001b[0;34m\u001b[0m\u001b[0m\n\u001b[1;32m    797\u001b[0m             \u001b[0;31m# check that n_features_in_ is consistent\u001b[0m\u001b[0;34m\u001b[0m\u001b[0;34m\u001b[0m\u001b[0m\n\u001b[0;32m--> 798\u001b[0;31m             \u001b[0mself\u001b[0m\u001b[0;34m.\u001b[0m\u001b[0m_check_n_features\u001b[0m\u001b[0;34m(\u001b[0m\u001b[0mX\u001b[0m\u001b[0;34m,\u001b[0m \u001b[0mreset\u001b[0m\u001b[0;34m=\u001b[0m\u001b[0;32mFalse\u001b[0m\u001b[0;34m)\u001b[0m\u001b[0;34m\u001b[0m\u001b[0;34m\u001b[0m\u001b[0m\n\u001b[0m\u001b[1;32m    799\u001b[0m \u001b[0;34m\u001b[0m\u001b[0m\n\u001b[1;32m    800\u001b[0m         Xs = self._fit_transform(\n",
      "\u001b[0;32m/usr/local/lib/python3.11/dist-packages/sklearn/base.py\u001b[0m in \u001b[0;36m_check_n_features\u001b[0;34m(self, X, reset)\u001b[0m\n\u001b[1;32m    387\u001b[0m \u001b[0;34m\u001b[0m\u001b[0m\n\u001b[1;32m    388\u001b[0m         \u001b[0;32mif\u001b[0m \u001b[0mn_features\u001b[0m \u001b[0;34m!=\u001b[0m \u001b[0mself\u001b[0m\u001b[0;34m.\u001b[0m\u001b[0mn_features_in_\u001b[0m\u001b[0;34m:\u001b[0m\u001b[0;34m\u001b[0m\u001b[0;34m\u001b[0m\u001b[0m\n\u001b[0;32m--> 389\u001b[0;31m             raise ValueError(\n\u001b[0m\u001b[1;32m    390\u001b[0m                 \u001b[0;34mf\"X has {n_features} features, but {self.__class__.__name__} \"\u001b[0m\u001b[0;34m\u001b[0m\u001b[0;34m\u001b[0m\u001b[0m\n\u001b[1;32m    391\u001b[0m                 \u001b[0;34mf\"is expecting {self.n_features_in_} features as input.\"\u001b[0m\u001b[0;34m\u001b[0m\u001b[0;34m\u001b[0m\u001b[0m\n",
      "\u001b[0;31mValueError\u001b[0m: X has 8 features, but ColumnTransformer is expecting 11 features as input."
     ]
    }
   ],
   "source": [
    "import torch.nn as nn\n",
    "from skorch import NeuralNetClassifier\n",
    "from sklearn.pipeline import Pipeline\n",
    "import joblib\n",
    "from sklearn.preprocessing import FunctionTransformer\n",
    "\n",
    "torch.set_default_dtype(torch.float64)\n",
    "# 1) define your PyTorch module\n",
    "class TitanicNet(nn.Module):\n",
    "    def __init__(self, input_dim):\n",
    "        super().__init__()\n",
    "        self.net = nn.Sequential(\n",
    "            nn.Linear(input_dim, 256), nn.ReLU(),\n",
    "            nn.Dropout(0.5),\n",
    "            nn.Linear(256, 128),      nn.ReLU(),\n",
    "            nn.Dropout(0.5),\n",
    "            nn.Linear(128, 1),        nn.Sigmoid(),\n",
    "        )\n",
    "\n",
    "    def forward(self, X):\n",
    "        return self.net(X).squeeze(-1)\n",
    "\n",
    "# 3) build pipeline\n",
    "preprocessor = joblib.load(\"titanic_preprocessor.joblib\")\n",
    "n_features = preprocessor.transform(X_train_proc).shape[1]\n",
    "\n",
    "print(n_features)\n",
    "\n",
    "# 2) wrap in skorch\n",
    "net = NeuralNetClassifier(\n",
    "    module=TitanicNet,\n",
    "    module__input_dim=n_features,\n",
    "    max_epochs=30,\n",
    "    lr=1e-3,\n",
    "    batch_size=32,\n",
    "    optimizer=torch.optim.Adam,\n",
    "    criterion=nn.BCELoss,\n",
    "    train_split=None,       # or use skorch callbacks for val\n",
    "    verbose=1,\n",
    "    device=device           # or 'cpu'\n",
    ")\n",
    "net.initialize() \n",
    "net.module_.double()\n",
    "to_float64 = FunctionTransformer(lambda X: X.astype(np.float64))\n",
    "\n",
    "pipeline = Pipeline([\n",
    "    (\"preproc\", preprocessor),\n",
    "    (\"to64\",       to_float64),\n",
    "    (\"nn\",      net),\n",
    "])\n",
    "\n",
    "# 4) fit & evaluate\n",
    "pipeline.fit(X_train_proc, y_train)\n",
    "print(\"Train score:\", pipeline.score(X_train, y_train))\n",
    "print(\"Val   score:\", pipeline.score(X_val_proc,   y_val))\n"
   ]
  },
  {
   "cell_type": "code",
   "execution_count": 14,
   "id": "19fc2ecb",
   "metadata": {},
   "outputs": [
    {
     "name": "stdout",
     "output_type": "stream",
     "text": [
      "  epoch    train_loss     dur\n",
      "-------  ------------  ------\n",
      "      1        \u001b[36m0.6231\u001b[0m  0.3155\n",
      "      2        \u001b[36m0.5469\u001b[0m  0.0868\n",
      "      3        \u001b[36m0.5094\u001b[0m  0.0837\n",
      "      4        \u001b[36m0.4846\u001b[0m  0.0746\n",
      "      5        \u001b[36m0.4734\u001b[0m  0.0658\n",
      "      6        \u001b[36m0.4563\u001b[0m  0.0651\n",
      "      7        0.4654  0.0636\n",
      "      8        \u001b[36m0.4532\u001b[0m  0.0615\n",
      "      9        \u001b[36m0.4502\u001b[0m  0.0615\n",
      "     10        \u001b[36m0.4391\u001b[0m  0.0593\n",
      "     11        \u001b[36m0.4292\u001b[0m  0.0610\n",
      "     12        0.4330  0.0620\n",
      "     13        0.4307  0.0601\n",
      "     14        0.4325  0.0607\n",
      "     15        \u001b[36m0.4193\u001b[0m  0.0593\n",
      "     16        0.4345  0.0591\n",
      "     17        \u001b[36m0.4190\u001b[0m  0.0576\n",
      "     18        \u001b[36m0.4087\u001b[0m  0.0602\n",
      "     19        \u001b[36m0.4086\u001b[0m  0.0589\n",
      "     20        0.4244  0.0594\n",
      "     21        0.4293  0.0609\n",
      "     22        0.4142  0.0587\n",
      "     23        0.4243  0.0585\n",
      "     24        0.4124  0.0595\n",
      "     25        0.4120  0.0577\n",
      "     26        \u001b[36m0.4060\u001b[0m  0.0640\n",
      "     27        0.4150  0.0583\n",
      "     28        0.4321  0.0597\n",
      "     29        \u001b[36m0.4051\u001b[0m  0.0598\n",
      "     30        \u001b[36m0.4023\u001b[0m  0.0604\n"
     ]
    },
    {
     "data": {
      "text/html": [
       "<style>#sk-container-id-1 {color: black;background-color: white;}#sk-container-id-1 pre{padding: 0;}#sk-container-id-1 div.sk-toggleable {background-color: white;}#sk-container-id-1 label.sk-toggleable__label {cursor: pointer;display: block;width: 100%;margin-bottom: 0;padding: 0.3em;box-sizing: border-box;text-align: center;}#sk-container-id-1 label.sk-toggleable__label-arrow:before {content: \"▸\";float: left;margin-right: 0.25em;color: #696969;}#sk-container-id-1 label.sk-toggleable__label-arrow:hover:before {color: black;}#sk-container-id-1 div.sk-estimator:hover label.sk-toggleable__label-arrow:before {color: black;}#sk-container-id-1 div.sk-toggleable__content {max-height: 0;max-width: 0;overflow: hidden;text-align: left;background-color: #f0f8ff;}#sk-container-id-1 div.sk-toggleable__content pre {margin: 0.2em;color: black;border-radius: 0.25em;background-color: #f0f8ff;}#sk-container-id-1 input.sk-toggleable__control:checked~div.sk-toggleable__content {max-height: 200px;max-width: 100%;overflow: auto;}#sk-container-id-1 input.sk-toggleable__control:checked~label.sk-toggleable__label-arrow:before {content: \"▾\";}#sk-container-id-1 div.sk-estimator input.sk-toggleable__control:checked~label.sk-toggleable__label {background-color: #d4ebff;}#sk-container-id-1 div.sk-label input.sk-toggleable__control:checked~label.sk-toggleable__label {background-color: #d4ebff;}#sk-container-id-1 input.sk-hidden--visually {border: 0;clip: rect(1px 1px 1px 1px);clip: rect(1px, 1px, 1px, 1px);height: 1px;margin: -1px;overflow: hidden;padding: 0;position: absolute;width: 1px;}#sk-container-id-1 div.sk-estimator {font-family: monospace;background-color: #f0f8ff;border: 1px dotted black;border-radius: 0.25em;box-sizing: border-box;margin-bottom: 0.5em;}#sk-container-id-1 div.sk-estimator:hover {background-color: #d4ebff;}#sk-container-id-1 div.sk-parallel-item::after {content: \"\";width: 100%;border-bottom: 1px solid gray;flex-grow: 1;}#sk-container-id-1 div.sk-label:hover label.sk-toggleable__label {background-color: #d4ebff;}#sk-container-id-1 div.sk-serial::before {content: \"\";position: absolute;border-left: 1px solid gray;box-sizing: border-box;top: 0;bottom: 0;left: 50%;z-index: 0;}#sk-container-id-1 div.sk-serial {display: flex;flex-direction: column;align-items: center;background-color: white;padding-right: 0.2em;padding-left: 0.2em;position: relative;}#sk-container-id-1 div.sk-item {position: relative;z-index: 1;}#sk-container-id-1 div.sk-parallel {display: flex;align-items: stretch;justify-content: center;background-color: white;position: relative;}#sk-container-id-1 div.sk-item::before, #sk-container-id-1 div.sk-parallel-item::before {content: \"\";position: absolute;border-left: 1px solid gray;box-sizing: border-box;top: 0;bottom: 0;left: 50%;z-index: -1;}#sk-container-id-1 div.sk-parallel-item {display: flex;flex-direction: column;z-index: 1;position: relative;background-color: white;}#sk-container-id-1 div.sk-parallel-item:first-child::after {align-self: flex-end;width: 50%;}#sk-container-id-1 div.sk-parallel-item:last-child::after {align-self: flex-start;width: 50%;}#sk-container-id-1 div.sk-parallel-item:only-child::after {width: 0;}#sk-container-id-1 div.sk-dashed-wrapped {border: 1px dashed gray;margin: 0 0.4em 0.5em 0.4em;box-sizing: border-box;padding-bottom: 0.4em;background-color: white;}#sk-container-id-1 div.sk-label label {font-family: monospace;font-weight: bold;display: inline-block;line-height: 1.2em;}#sk-container-id-1 div.sk-label-container {text-align: center;}#sk-container-id-1 div.sk-container {/* jupyter's `normalize.less` sets `[hidden] { display: none; }` but bootstrap.min.css set `[hidden] { display: none !important; }` so we also need the `!important` here to be able to override the default hidden behavior on the sphinx rendered scikit-learn.org. See: https://github.com/scikit-learn/scikit-learn/issues/21755 */display: inline-block !important;position: relative;}#sk-container-id-1 div.sk-text-repr-fallback {display: none;}</style><div id=\"sk-container-id-1\" class=\"sk-top-container\"><div class=\"sk-text-repr-fallback\"><pre>Pipeline(steps=[(&#x27;preproc_pipe&#x27;,\n",
       "                 Pipeline(steps=[(&#x27;to64&#x27;,\n",
       "                                  FunctionTransformer(func=&lt;function &lt;lambda&gt; at 0x7cb4f08ad440&gt;))])),\n",
       "                (&#x27;net&#x27;,\n",
       "                 NeuralNetClassifier(_params_to_validate=set(), batch_size=32, callbacks=None, compile=False, criterion=&lt;class &#x27;torch.nn.modules.loss.BCELoss&#x27;&gt;, dataset=&lt;class &#x27;skorch.dataset.Dataset&#x27;&gt;, device=&#x27;cuda&#x27;, iterator_train=&lt;class &#x27;torch.utils.data.dataloader.DataLoader&#x27;&gt;, iterator_valid=&lt;class &#x27;torch.utils.data.dataloader.DataLoader&#x27;&gt;, lr=0.001, max_epochs=30, module=&lt;class &#x27;__main__.TitanicNetLazy&#x27;&gt;, optimizer=&lt;class &#x27;torch.optim.adam.Adam&#x27;&gt;, predict_nonlinearity=&#x27;auto&#x27;, torch_load_kwargs=None, train_split=None, use_caching=&#x27;auto&#x27;, verbose=1, warm_start=False))])</pre><b>In a Jupyter environment, please rerun this cell to show the HTML representation or trust the notebook. <br />On GitHub, the HTML representation is unable to render, please try loading this page with nbviewer.org.</b></div><div class=\"sk-container\" hidden><div class=\"sk-item sk-dashed-wrapped\"><div class=\"sk-label-container\"><div class=\"sk-label sk-toggleable\"><input class=\"sk-toggleable__control sk-hidden--visually\" id=\"sk-estimator-id-1\" type=\"checkbox\" ><label for=\"sk-estimator-id-1\" class=\"sk-toggleable__label sk-toggleable__label-arrow\">Pipeline</label><div class=\"sk-toggleable__content\"><pre>Pipeline(steps=[(&#x27;preproc_pipe&#x27;,\n",
       "                 Pipeline(steps=[(&#x27;to64&#x27;,\n",
       "                                  FunctionTransformer(func=&lt;function &lt;lambda&gt; at 0x7cb4f08ad440&gt;))])),\n",
       "                (&#x27;net&#x27;,\n",
       "                 NeuralNetClassifier(_params_to_validate=set(), batch_size=32, callbacks=None, compile=False, criterion=&lt;class &#x27;torch.nn.modules.loss.BCELoss&#x27;&gt;, dataset=&lt;class &#x27;skorch.dataset.Dataset&#x27;&gt;, device=&#x27;cuda&#x27;, iterator_train=&lt;class &#x27;torch.utils.data.dataloader.DataLoader&#x27;&gt;, iterator_valid=&lt;class &#x27;torch.utils.data.dataloader.DataLoader&#x27;&gt;, lr=0.001, max_epochs=30, module=&lt;class &#x27;__main__.TitanicNetLazy&#x27;&gt;, optimizer=&lt;class &#x27;torch.optim.adam.Adam&#x27;&gt;, predict_nonlinearity=&#x27;auto&#x27;, torch_load_kwargs=None, train_split=None, use_caching=&#x27;auto&#x27;, verbose=1, warm_start=False))])</pre></div></div></div><div class=\"sk-serial\"><div class=\"sk-item\"><div class=\"sk-label-container\"><div class=\"sk-label sk-toggleable\"><input class=\"sk-toggleable__control sk-hidden--visually\" id=\"sk-estimator-id-2\" type=\"checkbox\" ><label for=\"sk-estimator-id-2\" class=\"sk-toggleable__label sk-toggleable__label-arrow\">preproc_pipe: Pipeline</label><div class=\"sk-toggleable__content\"><pre>Pipeline(steps=[(&#x27;to64&#x27;,\n",
       "                 FunctionTransformer(func=&lt;function &lt;lambda&gt; at 0x7cb4f08ad440&gt;))])</pre></div></div></div><div class=\"sk-serial\"><div class=\"sk-item\"><div class=\"sk-estimator sk-toggleable\"><input class=\"sk-toggleable__control sk-hidden--visually\" id=\"sk-estimator-id-3\" type=\"checkbox\" ><label for=\"sk-estimator-id-3\" class=\"sk-toggleable__label sk-toggleable__label-arrow\">FunctionTransformer</label><div class=\"sk-toggleable__content\"><pre>FunctionTransformer(func=&lt;function &lt;lambda&gt; at 0x7cb4f08ad440&gt;)</pre></div></div></div></div></div><div class=\"sk-item\"><div class=\"sk-estimator sk-toggleable\"><input class=\"sk-toggleable__control sk-hidden--visually\" id=\"sk-estimator-id-4\" type=\"checkbox\" ><label for=\"sk-estimator-id-4\" class=\"sk-toggleable__label sk-toggleable__label-arrow\">NeuralNetClassifier</label><div class=\"sk-toggleable__content\"><pre>&lt;class &#x27;skorch.classifier.NeuralNetClassifier&#x27;&gt;[initialized](\n",
       "  module_=TitanicNetLazy(\n",
       "    (net): Sequential(\n",
       "      (0): Linear(in_features=8, out_features=256, bias=True)\n",
       "      (1): ReLU()\n",
       "      (2): Dropout(p=0.5, inplace=False)\n",
       "      (3): Linear(in_features=256, out_features=128, bias=True)\n",
       "      (4): ReLU()\n",
       "      (5): Dropout(p=0.5, inplace=False)\n",
       "      (6): Linear(in_features=128, out_features=1, bias=True)\n",
       "      (7): Sigmoid()\n",
       "    )\n",
       "  ),\n",
       ")</pre></div></div></div></div></div></div></div>"
      ],
      "text/plain": [
       "Pipeline(steps=[('preproc_pipe',\n",
       "                 Pipeline(steps=[('to64',\n",
       "                                  FunctionTransformer(func=<function <lambda> at 0x7cb4f08ad440>))])),\n",
       "                ('net',\n",
       "                 NeuralNetClassifier(_params_to_validate=set(), batch_size=32, callbacks=None, compile=False, criterion=<class 'torch.nn.modules.loss.BCELoss'>, dataset=<class 'skorch.dataset.Dataset'>, device='cuda', iterator_train=<class 'torch.utils.data.dataloader.DataLoader'>, iterator_valid=<class 'torch.utils.data.dataloader.DataLoader'>, lr=0.001, max_epochs=30, module=<class '__main__.TitanicNetLazy'>, optimizer=<class 'torch.optim.adam.Adam'>, predict_nonlinearity='auto', torch_load_kwargs=None, train_split=None, use_caching='auto', verbose=1, warm_start=False))])"
      ]
     },
     "execution_count": 14,
     "metadata": {},
     "output_type": "execute_result"
    }
   ],
   "source": [
    "from sklearn.pipeline import Pipeline\n",
    "import torch.nn as nn\n",
    "\n",
    "class TitanicNetLazy(nn.Module):\n",
    "    def __init__(self):\n",
    "        super().__init__()\n",
    "        self.net = nn.Sequential(\n",
    "            nn.LazyLinear(256),   # ← will auto-infer in_features\n",
    "            nn.ReLU(),\n",
    "            nn.Dropout(0.5),\n",
    "            nn.Linear(256, 128),\n",
    "            nn.ReLU(),\n",
    "            nn.Dropout(0.5),\n",
    "            nn.Linear(128, 1),\n",
    "            nn.Sigmoid(),\n",
    "        )\n",
    "\n",
    "    def forward(self, X):\n",
    "        return self.net(X).squeeze(-1)\n",
    "    \n",
    "# 1) build just the preprocessor + dtype cast\n",
    "preproc_pipe = Pipeline([\n",
    "    # (\"preproc\", preprocessor),           # your column transformer\n",
    "    (\"to64\",   FunctionTransformer(lambda X: X.astype(np.float64))),\n",
    "])\n",
    "\n",
    "# 2) figure out exactly how many columns it produces\n",
    "n_features = preproc_pipe.transform(X_train_proc).shape[1]\n",
    "\n",
    "# 3) use *that* when constructing the net\n",
    "net = NeuralNetClassifier(\n",
    "    module=TitanicNetLazy,    # LazyLinear will infer the input size\n",
    "    max_epochs=30,\n",
    "    lr=1e-3,\n",
    "    batch_size=32,\n",
    "    optimizer=torch.optim.Adam,\n",
    "    criterion=nn.BCELoss,\n",
    "    train_split=None,\n",
    "    verbose=1,\n",
    "    device=device,\n",
    ")\n",
    "\n",
    "\n",
    "# 4) now build your full pipeline\n",
    "pipeline = Pipeline([\n",
    "    (\"preproc_pipe\", preproc_pipe),\n",
    "    (\"net\",          net),\n",
    "])\n",
    "y_train_double = y_train.astype(np.float64)\n",
    "y_val_double   = y_val.astype(np.float64)\n",
    "pipeline.fit(X_train_proc, y_train_double)\n"
   ]
  },
  {
   "cell_type": "code",
   "execution_count": 19,
   "id": "cf7bafb0",
   "metadata": {},
   "outputs": [
    {
     "name": "stdout",
     "output_type": "stream",
     "text": [
      "Val score: 0.8212290502793296\n"
     ]
    }
   ],
   "source": [
    "print(\"Val score:\", pipeline.score(X_val, y_val_double))"
   ]
  },
  {
   "cell_type": "code",
   "execution_count": 15,
   "id": "b8804b6a",
   "metadata": {},
   "outputs": [
    {
     "name": "stdout",
     "output_type": "stream",
     "text": [
      "Val score: 0.8100558659217877\n"
     ]
    }
   ],
   "source": [
    "print(\"Val score:\", pipeline.score(X_val_proc, y_val_double))"
   ]
  },
  {
   "cell_type": "code",
   "execution_count": null,
   "id": "04e419c8",
   "metadata": {},
   "outputs": [],
   "source": []
  }
 ],
 "metadata": {
  "kernelspec": {
   "display_name": "Python 3",
   "language": "python",
   "name": "python3"
  },
  "language_info": {
   "codemirror_mode": {
    "name": "ipython",
    "version": 3
   },
   "file_extension": ".py",
   "mimetype": "text/x-python",
   "name": "python",
   "nbconvert_exporter": "python",
   "pygments_lexer": "ipython3",
   "version": "3.11.11"
  }
 },
 "nbformat": 4,
 "nbformat_minor": 5
}
